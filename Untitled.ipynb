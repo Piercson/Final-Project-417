{
 "cells": [
  {
   "cell_type": "code",
   "execution_count": 1,
   "id": "extended-bidder",
   "metadata": {},
   "outputs": [],
   "source": [
    "from helpers import *\n",
    "from solvers import *"
   ]
  },
  {
   "cell_type": "code",
   "execution_count": 2,
   "id": "quantitative-christianity",
   "metadata": {},
   "outputs": [
    {
     "data": {
      "text/plain": [
       "[[0, 1, 2], [3, 4, 5], [6, 7, 8]]"
      ]
     },
     "execution_count": 2,
     "metadata": {},
     "output_type": "execute_result"
    }
   ],
   "source": [
    "arr = [i for i in range(9)]\n",
    "size = 3\n",
    "\n",
    "arr_to_matrix(arr,size)"
   ]
  },
  {
   "cell_type": "code",
   "execution_count": 4,
   "id": "widespread-contrary",
   "metadata": {},
   "outputs": [
    {
     "name": "stdout",
     "output_type": "stream",
     "text": [
      "_______\n",
      "8  7  6  \n",
      "5  4  0  \n",
      "3  2  1  \n",
      "_______\n"
     ]
    },
    {
     "data": {
      "text/plain": [
       "0"
      ]
     },
     "execution_count": 4,
     "metadata": {},
     "output_type": "execute_result"
    }
   ],
   "source": [
    "state_arr = [8,7,6,5,4,0,3,2,1]\n",
    "size = 3\n",
    "M = arr_to_matrix(state_arr,size)\n",
    "loc = (1,1)\n",
    "pretty_print(M)\n",
    "i = get_location(M,0)\n",
    "M[i[0]][i[1]]\n",
    "# for i in range(4):\n",
    "#     print(i)"
   ]
  },
  {
   "cell_type": "code",
   "execution_count": 13,
   "id": "identical-rough",
   "metadata": {},
   "outputs": [
    {
     "name": "stdout",
     "output_type": "stream",
     "text": [
      "_______\n",
      "1  2  3  \n",
      "4  5  6  \n",
      "7  8  0  \n",
      "_______\n",
      "_______\n",
      "8  7  6  \n",
      "5  4  0  \n",
      "3  2  1  \n",
      "_______\n"
     ]
    }
   ],
   "source": [
    "goal_state = [x for x in range(1,9)] + [0]\n",
    "goal_state = arr_to_matrix(goal_state,3)\n",
    "A = arr_to_matrix([1,2,3,4,5,6,7,0,8], 3)\n",
    "pretty_print(goal_state)\n",
    "pretty_print(M)"
   ]
  },
  {
   "cell_type": "code",
   "execution_count": 8,
   "id": "european-laugh",
   "metadata": {},
   "outputs": [
    {
     "data": {
      "text/plain": [
       "True"
      ]
     },
     "execution_count": 8,
     "metadata": {},
     "output_type": "execute_result"
    }
   ],
   "source": [
    "m = repr(M)\n",
    "n = repr(M)\n",
    "n == m"
   ]
  },
  {
   "cell_type": "code",
   "execution_count": 9,
   "id": "competitive-dimension",
   "metadata": {},
   "outputs": [
    {
     "name": "stdout",
     "output_type": "stream",
     "text": [
      "_______\n",
      "1  2  3  \n",
      "4  5  6  \n",
      "7  8  0  \n",
      "_______\n",
      "_______\n",
      "8  7  6  \n",
      "5  4  0  \n",
      "3  2  1  \n",
      "_______\n"
     ]
    }
   ],
   "source": [
    "pretty_print(goal_state)\n",
    "pretty_print(M)"
   ]
  },
  {
   "cell_type": "code",
   "execution_count": 10,
   "id": "mental-shield",
   "metadata": {},
   "outputs": [
    {
     "name": "stdout",
     "output_type": "stream",
     "text": [
      "Generated 443\n",
      "Generated 181\n"
     ]
    }
   ],
   "source": [
    "solver = Astar(goal_state)\n",
    "sol = solver.find_solution(M,get_location(M,0))\n",
    "print(\"Generated\",solver.num_of_generated)\n",
    "print(\"Generated\",solver.num_of_expanded)"
   ]
  },
  {
   "cell_type": "code",
   "execution_count": 11,
   "id": "level-charger",
   "metadata": {},
   "outputs": [
    {
     "name": "stdout",
     "output_type": "stream",
     "text": [
      "Generated 443\n",
      "Generated 181\n"
     ]
    }
   ],
   "source": [
    "print(\"Generated\",solver.num_of_generated)\n",
    "print(\"Generated\",solver.num_of_expanded)"
   ]
  },
  {
   "cell_type": "code",
   "execution_count": null,
   "id": "cathedral-freedom",
   "metadata": {},
   "outputs": [],
   "source": []
  }
 ],
 "metadata": {
  "kernelspec": {
   "display_name": "Python 3",
   "language": "python",
   "name": "python3"
  },
  "language_info": {
   "codemirror_mode": {
    "name": "ipython",
    "version": 3
   },
   "file_extension": ".py",
   "mimetype": "text/x-python",
   "name": "python",
   "nbconvert_exporter": "python",
   "pygments_lexer": "ipython3",
   "version": "3.8.10"
  }
 },
 "nbformat": 4,
 "nbformat_minor": 5
}

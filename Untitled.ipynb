{
 "cells": [
  {
   "cell_type": "code",
   "execution_count": 1,
   "id": "insured-socket",
   "metadata": {},
   "outputs": [],
   "source": [
    "from helpers import *\n",
    "from solvers import *"
   ]
  },
  {
   "cell_type": "code",
   "execution_count": 3,
   "id": "equivalent-bruce",
   "metadata": {},
   "outputs": [
    {
     "name": "stdout",
     "output_type": "stream",
     "text": [
      "_______\n",
      "8  7  6  \n",
      "5  4  0  \n",
      "3  2  1  \n",
      "_______\n"
     ]
    },
    {
     "data": {
      "text/plain": [
       "0"
      ]
     },
     "execution_count": 3,
     "metadata": {},
     "output_type": "execute_result"
    }
   ],
   "source": [
    "state_arr = [8,7,6,5,4,0,3,2,1]\n",
    "size = 3\n",
    "M = arr_to_matrix(state_arr,size)\n",
    "loc = (1,1)\n",
    "pretty_print(M)\n",
    "M[i[0]][i[1]]\n",
    "# for i in range(4):\n",
    "#     print(i)"
   ]
  },
  {
   "cell_type": "code",
   "execution_count": 15,
   "id": "governmental-bumper",
   "metadata": {},
   "outputs": [
    {
     "name": "stdout",
     "output_type": "stream",
     "text": [
      "Goal State\n",
      "_______\n",
      "1  2  3  \n",
      "4  5  6  \n",
      "7  8  0  \n",
      "_______\n",
      "\n",
      "Current State\n",
      "_______\n",
      "8  7  6  \n",
      "5  4  0  \n",
      "3  2  1  \n",
      "_______\n"
     ]
    }
   ],
   "source": [
    "goal_state = [x for x in range(1,9)] + [0]\n",
    "goal_state = arr_to_matrix(goal_state,3)\n",
    "A = arr_to_matrix([1,2,3,4,5,6,7,0,8], 3)\n",
    "print(\"Goal State\")\n",
    "pretty_print(goal_state)\n",
    "print(\"\\nCurrent State\")\n",
    "pretty_print(M)"
   ]
  },
  {
   "cell_type": "code",
   "execution_count": 16,
   "id": "trying-incidence",
   "metadata": {},
   "outputs": [
    {
     "name": "stdout",
     "output_type": "stream",
     "text": [
      "Generated 12871\n",
      "Generated 8600\n",
      "30\n"
     ]
    }
   ],
   "source": [
    "solver = Astar(goal_state)\n",
    "sol = solver.find_solution(M,get_location(M,0))\n",
    "print(\"Generated\",solver.num_of_generated)\n",
    "print(\"Generated\",solver.num_of_expanded)\n",
    "print(len(sol))"
   ]
  },
  {
   "cell_type": "markdown",
   "id": "otherwise-cookbook",
   "metadata": {},
   "source": [
    "![psuedocode](psuedo.png \"Title\")"
   ]
  },
  {
   "cell_type": "code",
   "execution_count": 7,
   "id": "baking-flesh",
   "metadata": {},
   "outputs": [],
   "source": [
    "# print(\"Generated\",solver.num_of_generated)\n",
    "# print(\"Generated\",solver.num_of_expanded)\n",
    "# for state in sol:\n",
    "#     pretty_print(state)\n",
    "# print(len(sol))"
   ]
  },
  {
   "cell_type": "code",
   "execution_count": 8,
   "id": "recent-reliance",
   "metadata": {},
   "outputs": [],
   "source": [
    "class idastar(object):\n",
    "    \"\"\"The high-level search of CBS.\"\"\"\n",
    "\n",
    "    def __init__(self, goal):\n",
    "        self.goal = goal\n",
    "        self.num_of_generated = 0\n",
    "        self.num_of_expanded = 0\n",
    "        self.CPU_time = 0\n",
    "\n",
    "        # compute heuristics for the low-level search\n",
    "\n",
    "    def push_node(self, lst, node):\n",
    "        heapq.heappush(lst, (node['h_val'], self.num_of_generated, node))\n",
    "        # print(\"Generate node {}\".format(self.num_of_generated))\n",
    "        self.num_of_generated += 1\n",
    "\n",
    "    def pop_node(self, lst):\n",
    "        _, id, node = heapq.heappop(lst)\n",
    "        # print(\"Expand node {}\".format(id))\n",
    "        self.num_of_expanded += 1\n",
    "        return node\n",
    "    def ida(self, state, start_loc):\n",
    "        threshold = compute_heuristic_matt(state,self.goal)\n",
    "        root = {'loc': start_loc,'parent': None,'state': state,'h_val': compute_heuristic_matt(state,self.goal),'cost': 0}\n",
    "        f_values = [threshold]\n",
    "        while threshold <= 100:\n",
    "            stack = []\n",
    "            closed_list = dict()\n",
    "            self.push_node(stack,root)\n",
    "            closed_list[matrix_to_int(root['state'])] = root\n",
    "            threshold = min(f_values)\n",
    "            f_values = []\n",
    "            while len(stack) > 0:\n",
    "                _, _, node = stack.pop()\n",
    "                self.num_of_expanded += 1\n",
    "                f = node['cost'] + node['h_val']\n",
    "                # check if f is larger than threshold, dont explore if greater than\n",
    "                if f > threshold:\n",
    "                    continue\n",
    "                # check if state is goal state\n",
    "                if node['state'] == self.goal:\n",
    "                    return get_path(node)\n",
    "                child_nodes = self.nextnodes(node)\n",
    "                for child in child_nodes[::-1]:\n",
    "                    child_n = child[2]\n",
    "                    f_val = child_n['cost'] + child_n['h_val']\n",
    "                    if f_val > threshold:\n",
    "                        f_values.append(f_val)\n",
    "                        self.num_of_generated -= 1\n",
    "                        continue\n",
    "                    if matrix_to_int(child_n['state']) in closed_list:\n",
    "                        continue\n",
    "                    closed_list[matrix_to_int(child_n['state'])] = child_n\n",
    "                    stack.append(child)\n",
    "\n",
    "                \n",
    "            \n",
    "    def find_solution(self, state, start_loc):\n",
    "        threshold = compute_heuristic_matt(state,self.goal)\n",
    "        root = {'loc': start_loc,'parent': None,'state': state,'h_val': compute_heuristic_matt(state,self.goal),'cost': 0}\n",
    "        self.num_of_generated += 1\n",
    "        print('Threshhold',threshold)\n",
    "        while(1):\n",
    "            node, f = self.search(root,0,threshold)\n",
    "            print(\"New Bound\", f)\n",
    "            # check if found\n",
    "            if node != None:\n",
    "                return node\n",
    "            # if f is infinity, then no solution\n",
    "            if f == float('inf'):\n",
    "                return None\n",
    "            # adjust threshold\n",
    "            threshold = f\n",
    "    def search(self,node, g, threshold):\n",
    "        f = g + node['h_val']\n",
    "        if f > threshold:\n",
    "            return None, f\n",
    "        # Check if goal state\n",
    "        if node['state'] == self.goal:\n",
    "            return node, -1\n",
    "        minimun = float('inf')\n",
    "        list_nodes = self.nextnodes(node)\n",
    "        for tempnode in list_nodes:\n",
    "            # Get node from the list of nodes (sorted by h_val)\n",
    "            tempnode = self.pop_node(list_nodes)\n",
    "            # Do recurse on tempnode\n",
    "            newNode, val = self.search(tempnode, tempnode['cost'],threshold)\n",
    "            # Check if the goal state was found\n",
    "            if newNode != None:\n",
    "                return newNode, -1\n",
    "            # otherwise set new bound\n",
    "            if val < minimun:\n",
    "                minimun = val\n",
    "        return None, minimun\n",
    "    def nextnodes(self,node):\n",
    "        nodes = []\n",
    "        size = len(node['state'])\n",
    "        # try 4 possible swaps\n",
    "        for dir in range(4):\n",
    "            child_loc = move(node['loc'], dir)\n",
    "            # make sure child_loc is a valid location\n",
    "            if child_loc[0] < 0 or child_loc[1] < 0 or child_loc[0] >= size or child_loc[1] >= size:\n",
    "                    continue\n",
    "            new_state = get_new_state(node['loc'], child_loc, node['state'])\n",
    "            child = {'loc': child_loc,\n",
    "                     'parent': node,\n",
    "                     'state': new_state,\n",
    "                     'h_val': compute_heuristic_matt(new_state,self.goal),\n",
    "                     'cost': node['cost'] + 1}\n",
    "            self.push_node(nodes,child)\n",
    "        return nodes"
   ]
  },
  {
   "cell_type": "code",
   "execution_count": 19,
   "id": "terminal-telephone",
   "metadata": {},
   "outputs": [
    {
     "name": "stdout",
     "output_type": "stream",
     "text": [
      "_______\n",
      "0  6  5  \n",
      "4  3  1  \n",
      "8  2  7  \n",
      "_______\n"
     ]
    },
    {
     "data": {
      "text/plain": [
       "14"
      ]
     },
     "execution_count": 19,
     "metadata": {},
     "output_type": "execute_result"
    }
   ],
   "source": [
    "state_arr = [0,6,5,4,3,1,8,2,7]\n",
    "size = 3\n",
    "N = arr_to_matrix(state_arr,size)\n",
    "pretty_print(N)\n",
    "compute_heuristic_matt(N,goal_state)"
   ]
  },
  {
   "cell_type": "code",
   "execution_count": 10,
   "id": "stock-howard",
   "metadata": {},
   "outputs": [
    {
     "name": "stdout",
     "output_type": "stream",
     "text": [
      "_______\n",
      "8  7  6  \n",
      "5  4  0  \n",
      "3  2  1  \n",
      "_______\n",
      "Location of 0 (1, 2)\n",
      "Generated 4966\n",
      "expanded 3582\n"
     ]
    }
   ],
   "source": [
    "solver = idastar(goal_state)\n",
    "STATE = M\n",
    "pretty_print(STATE)\n",
    "print(\"Location of 0\",get_location(STATE,0))\n",
    "sol = solver.ida(STATE,get_location(STATE,0))\n",
    "print(\"Generated\",solver.num_of_generated)\n",
    "print(\"expanded\",solver.num_of_expanded)"
   ]
  },
  {
   "cell_type": "code",
   "execution_count": 21,
   "id": "reflected-while",
   "metadata": {},
   "outputs": [
    {
     "name": "stdout",
     "output_type": "stream",
     "text": [
      "_______\n",
      "0  6  5  \n",
      "4  3  1  \n",
      "8  2  7  \n",
      "_______\n",
      "Generated ASTAR 2832\n",
      "Expanded ASTAR 1827\n",
      "len of sol ASTAR 25\n",
      "Generated IDA 5351\n",
      "Expanded IDA 3418\n",
      "len of sol ida 27\n"
     ]
    }
   ],
   "source": [
    "from random import randint\n",
    "# BAD STATE\n",
    "# 0,6,5,4,3,1,8,2,7\n",
    "def get_random_state(goal_state,num_swaps):\n",
    "    new_state = copy.deepcopy(goal_state)\n",
    "    loc_0 = get_location(new_state,0)\n",
    "    size = len(goal_state)\n",
    "    for i in range(num_swaps):\n",
    "        while(1):\n",
    "            new_loc = move(loc_0,randint(0, 3))\n",
    "            if new_loc[0] < 0 or new_loc[1] < 0 or new_loc[0] >= size or new_loc[1] >= size:\n",
    "                continue\n",
    "            new_state = get_new_state(loc_0, new_loc, new_state)\n",
    "            loc_0 = new_loc\n",
    "            break\n",
    "    return new_state\n",
    "\n",
    "B = get_random_state(goal_state,1000)\n",
    "B = N\n",
    "pretty_print(B)\n",
    "solver1 = Astar(goal_state)\n",
    "solver2 = idastar(goal_state)\n",
    "sol1 = solver1.find_solution(B,get_location(B,0))\n",
    "print(\"Generated ASTAR\",solver1.num_of_generated)\n",
    "print(\"Expanded ASTAR\",solver1.num_of_expanded)\n",
    "print(\"len of sol ASTAR\", len(sol1))\n",
    "sol2 = solver2.ida(B,get_location(B,0))\n",
    "print(\"Generated IDA\",solver2.num_of_generated)\n",
    "print(\"Expanded IDA\",solver2.num_of_expanded)\n",
    "print(\"len of sol ida\", len(sol2))"
   ]
  }
 ],
 "metadata": {
  "kernelspec": {
   "display_name": "Python 3",
   "language": "python",
   "name": "python3"
  },
  "language_info": {
   "codemirror_mode": {
    "name": "ipython",
    "version": 3
   },
   "file_extension": ".py",
   "mimetype": "text/x-python",
   "name": "python",
   "nbconvert_exporter": "python",
   "pygments_lexer": "ipython3",
   "version": "3.8.10"
  }
 },
 "nbformat": 4,
 "nbformat_minor": 5
}

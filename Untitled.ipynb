{
 "cells": [
  {
   "cell_type": "code",
   "execution_count": 1,
   "id": "reduced-insertion",
   "metadata": {},
   "outputs": [],
   "source": [
    "from helpers import *\n",
    "from solvers import *\n",
    "import time as timer"
   ]
  },
  {
   "cell_type": "code",
   "execution_count": 2,
   "id": "disciplinary-communication",
   "metadata": {},
   "outputs": [
    {
     "name": "stdout",
     "output_type": "stream",
     "text": [
      "_______\n",
      "8  7  6  \n",
      "5  4  0  \n",
      "3  2  1  \n",
      "_______\n"
     ]
    }
   ],
   "source": [
    "state_arr = [8,7,6,5,4,0,3,2,1]\n",
    "size = 3\n",
    "M = arr_to_matrix(state_arr,size)\n",
    "loc = (1,1)\n",
    "pretty_print(M)\n",
    "# for i in range(4):\n",
    "#     print(i)"
   ]
  },
  {
   "cell_type": "code",
   "execution_count": 3,
   "id": "racial-swedish",
   "metadata": {},
   "outputs": [
    {
     "name": "stdout",
     "output_type": "stream",
     "text": [
      "Goal State\n",
      "_______\n",
      "1  2  3  \n",
      "4  5  6  \n",
      "7  8  0  \n",
      "_______\n",
      "\n",
      "Current State\n",
      "_______\n",
      "8  7  6  \n",
      "5  4  0  \n",
      "3  2  1  \n",
      "_______\n"
     ]
    }
   ],
   "source": [
    "goal_state = [x for x in range(1,9)] + [0]\n",
    "goal_state = arr_to_matrix(goal_state,3)\n",
    "A = arr_to_matrix([1,2,3,4,5,6,7,0,8], 3)\n",
    "print(\"Goal State\")\n",
    "pretty_print(goal_state)\n",
    "print(\"\\nCurrent State\")\n",
    "pretty_print(M)"
   ]
  },
  {
   "cell_type": "code",
   "execution_count": 4,
   "id": "conditional-innocent",
   "metadata": {},
   "outputs": [
    {
     "ename": "NameError",
     "evalue": "name 'matrix_to_int' is not defined",
     "output_type": "error",
     "traceback": [
      "\u001b[0;31m---------------------------------------------------------------------------\u001b[0m",
      "\u001b[0;31mNameError\u001b[0m                                 Traceback (most recent call last)",
      "\u001b[0;32m<ipython-input-4-13b274fef6ec>\u001b[0m in \u001b[0;36m<module>\u001b[0;34m\u001b[0m\n\u001b[1;32m      1\u001b[0m \u001b[0msolver\u001b[0m \u001b[0;34m=\u001b[0m \u001b[0mAstar\u001b[0m\u001b[0;34m(\u001b[0m\u001b[0mgoal_state\u001b[0m\u001b[0;34m)\u001b[0m\u001b[0;34m\u001b[0m\u001b[0;34m\u001b[0m\u001b[0m\n\u001b[0;32m----> 2\u001b[0;31m \u001b[0msol\u001b[0m \u001b[0;34m=\u001b[0m \u001b[0msolver\u001b[0m\u001b[0;34m.\u001b[0m\u001b[0mfind_solution\u001b[0m\u001b[0;34m(\u001b[0m\u001b[0mM\u001b[0m\u001b[0;34m,\u001b[0m\u001b[0mget_location\u001b[0m\u001b[0;34m(\u001b[0m\u001b[0mM\u001b[0m\u001b[0;34m,\u001b[0m\u001b[0;36m0\u001b[0m\u001b[0;34m)\u001b[0m\u001b[0;34m)\u001b[0m\u001b[0;34m\u001b[0m\u001b[0;34m\u001b[0m\u001b[0m\n\u001b[0m\u001b[1;32m      3\u001b[0m \u001b[0mprint\u001b[0m\u001b[0;34m(\u001b[0m\u001b[0;34m\"Generated\"\u001b[0m\u001b[0;34m,\u001b[0m\u001b[0msolver\u001b[0m\u001b[0;34m.\u001b[0m\u001b[0mnum_of_generated\u001b[0m\u001b[0;34m)\u001b[0m\u001b[0;34m\u001b[0m\u001b[0;34m\u001b[0m\u001b[0m\n\u001b[1;32m      4\u001b[0m \u001b[0mprint\u001b[0m\u001b[0;34m(\u001b[0m\u001b[0;34m\"Generated\"\u001b[0m\u001b[0;34m,\u001b[0m\u001b[0msolver\u001b[0m\u001b[0;34m.\u001b[0m\u001b[0mnum_of_expanded\u001b[0m\u001b[0;34m)\u001b[0m\u001b[0;34m\u001b[0m\u001b[0;34m\u001b[0m\u001b[0m\n\u001b[1;32m      5\u001b[0m \u001b[0mprint\u001b[0m\u001b[0;34m(\u001b[0m\u001b[0mlen\u001b[0m\u001b[0;34m(\u001b[0m\u001b[0msol\u001b[0m\u001b[0;34m)\u001b[0m\u001b[0;34m)\u001b[0m\u001b[0;34m\u001b[0m\u001b[0;34m\u001b[0m\u001b[0m\n",
      "\u001b[0;32m/mnt/c/Users/Piercson/Desktop/Cmpt417/Final-Project-417/solvers.py\u001b[0m in \u001b[0;36mfind_solution\u001b[0;34m(self, state, start_loc)\u001b[0m\n\u001b[1;32m     83\u001b[0m         \u001b[0mroot\u001b[0m \u001b[0;34m=\u001b[0m \u001b[0;34m{\u001b[0m\u001b[0;34m'loc'\u001b[0m\u001b[0;34m:\u001b[0m \u001b[0mstart_loc\u001b[0m\u001b[0;34m,\u001b[0m\u001b[0;34m'parent'\u001b[0m\u001b[0;34m:\u001b[0m \u001b[0;32mNone\u001b[0m\u001b[0;34m,\u001b[0m\u001b[0;34m'state'\u001b[0m\u001b[0;34m:\u001b[0m \u001b[0mstate\u001b[0m\u001b[0;34m,\u001b[0m\u001b[0;34m'g_val'\u001b[0m\u001b[0;34m:\u001b[0m \u001b[0mcompute_heuristic_matt\u001b[0m\u001b[0;34m(\u001b[0m\u001b[0mstate\u001b[0m\u001b[0;34m,\u001b[0m\u001b[0mself\u001b[0m\u001b[0;34m.\u001b[0m\u001b[0mgoal\u001b[0m\u001b[0;34m)\u001b[0m\u001b[0;34m,\u001b[0m\u001b[0;34m'cost'\u001b[0m\u001b[0;34m:\u001b[0m \u001b[0;36m0\u001b[0m\u001b[0;34m}\u001b[0m\u001b[0;34m\u001b[0m\u001b[0;34m\u001b[0m\u001b[0m\n\u001b[1;32m     84\u001b[0m         \u001b[0mself\u001b[0m\u001b[0;34m.\u001b[0m\u001b[0mpush_node\u001b[0m\u001b[0;34m(\u001b[0m\u001b[0mroot\u001b[0m\u001b[0;34m)\u001b[0m\u001b[0;34m\u001b[0m\u001b[0;34m\u001b[0m\u001b[0m\n\u001b[0;32m---> 85\u001b[0;31m         \u001b[0mclosed_list\u001b[0m\u001b[0;34m[\u001b[0m\u001b[0;34m(\u001b[0m\u001b[0mroot\u001b[0m\u001b[0;34m[\u001b[0m\u001b[0;34m'loc'\u001b[0m\u001b[0;34m]\u001b[0m\u001b[0;34m,\u001b[0m\u001b[0mmatrix_to_int\u001b[0m\u001b[0;34m(\u001b[0m\u001b[0mstate\u001b[0m\u001b[0;34m)\u001b[0m\u001b[0;34m)\u001b[0m\u001b[0;34m]\u001b[0m \u001b[0;34m=\u001b[0m \u001b[0mroot\u001b[0m\u001b[0;34m\u001b[0m\u001b[0;34m\u001b[0m\u001b[0m\n\u001b[0m\u001b[1;32m     86\u001b[0m         \u001b[0;32mwhile\u001b[0m \u001b[0mlen\u001b[0m\u001b[0;34m(\u001b[0m\u001b[0mself\u001b[0m\u001b[0;34m.\u001b[0m\u001b[0mopen_list\u001b[0m\u001b[0;34m)\u001b[0m \u001b[0;34m>\u001b[0m \u001b[0;36m0\u001b[0m\u001b[0;34m:\u001b[0m\u001b[0;34m\u001b[0m\u001b[0;34m\u001b[0m\u001b[0m\n\u001b[1;32m     87\u001b[0m             \u001b[0mcurr\u001b[0m \u001b[0;34m=\u001b[0m \u001b[0mself\u001b[0m\u001b[0;34m.\u001b[0m\u001b[0mpop_node\u001b[0m\u001b[0;34m(\u001b[0m\u001b[0;34m)\u001b[0m\u001b[0;34m\u001b[0m\u001b[0;34m\u001b[0m\u001b[0m\n",
      "\u001b[0;31mNameError\u001b[0m: name 'matrix_to_int' is not defined"
     ]
    }
   ],
   "source": [
    "solver = Astar(goal_state)\n",
    "sol = solver.find_solution(M,get_location(M,0))\n",
    "print(\"Generated\",solver.num_of_generated)\n",
    "print(\"Generated\",solver.num_of_expanded)\n",
    "print(len(sol))"
   ]
  },
  {
   "cell_type": "markdown",
   "id": "tribal-blind",
   "metadata": {},
   "source": [
    "![psuedocode](psuedo.png \"Title\")"
   ]
  },
  {
   "cell_type": "code",
   "execution_count": null,
   "id": "bibliographic-pencil",
   "metadata": {},
   "outputs": [],
   "source": [
    "# print(\"Generated\",solver.num_of_generated)\n",
    "# print(\"Generated\",solver.num_of_expanded)\n",
    "# for state in sol:\n",
    "#     pretty_print(state)\n",
    "# print(len(sol))"
   ]
  },
  {
   "cell_type": "code",
   "execution_count": null,
   "id": "numerous-newton",
   "metadata": {},
   "outputs": [],
   "source": []
  },
  {
   "cell_type": "code",
   "execution_count": null,
   "id": "vanilla-script",
   "metadata": {},
   "outputs": [],
   "source": [
    "B = get_random_state(goal_state,1000)\n",
    "B = N\n",
    "pretty_print(B)\n",
    "solver1 = Astar(goal_state)\n",
    "solver2 = idastar(goal_state)\n",
    "sol1 = solver1.find_solution(B,get_location(B,0))\n",
    "print(\"Generated ASTAR\",solver1.num_of_generated)\n",
    "print(\"Expanded ASTAR\",solver1.num_of_expanded)\n",
    "print(\"len of sol ASTAR\", len(sol1))\n",
    "sol2 = solver2.find_solution(B,get_location(B,0))\n",
    "print(\"Generated IDA\",solver2.num_of_generated)\n",
    "print(\"Expanded IDA\",solver2.num_of_expanded)\n",
    "print(\"len of sol ida\", len(sol2))"
   ]
  }
 ],
 "metadata": {
  "kernelspec": {
   "display_name": "Python 3",
   "language": "python",
   "name": "python3"
  },
  "language_info": {
   "codemirror_mode": {
    "name": "ipython",
    "version": 3
   },
   "file_extension": ".py",
   "mimetype": "text/x-python",
   "name": "python",
   "nbconvert_exporter": "python",
   "pygments_lexer": "ipython3",
   "version": "3.8.10"
  }
 },
 "nbformat": 4,
 "nbformat_minor": 5
}

{
 "cells": [
  {
   "cell_type": "code",
   "execution_count": 1,
   "id": "approved-savannah",
   "metadata": {},
   "outputs": [],
   "source": [
    "from helpers import *\n",
    "from solvers import *"
   ]
  },
  {
   "cell_type": "code",
   "execution_count": 2,
   "id": "elect-litigation",
   "metadata": {},
   "outputs": [
    {
     "data": {
      "text/plain": [
       "[[0, 1, 2], [3, 4, 5], [6, 7, 8]]"
      ]
     },
     "execution_count": 2,
     "metadata": {},
     "output_type": "execute_result"
    }
   ],
   "source": [
    "arr = [i for i in range(9)]\n",
    "size = 3\n",
    "\n",
    "arr_to_matrix(arr,size)"
   ]
  },
  {
   "cell_type": "code",
   "execution_count": 3,
   "id": "medieval-tenant",
   "metadata": {},
   "outputs": [
    {
     "name": "stdout",
     "output_type": "stream",
     "text": [
      "_______\n",
      "8  7  6  \n",
      "5  4  0  \n",
      "3  2  1  \n",
      "_______\n"
     ]
    },
    {
     "data": {
      "text/plain": [
       "0"
      ]
     },
     "execution_count": 3,
     "metadata": {},
     "output_type": "execute_result"
    }
   ],
   "source": [
    "state_arr = [8,7,6,5,4,0,3,2,1]\n",
    "size = 3\n",
    "M = arr_to_matrix(state_arr,size)\n",
    "loc = (1,1)\n",
    "pretty_print(M)\n",
    "i = get_location(M)\n",
    "M[i[0]][i[1]]\n",
    "# for i in range(4):\n",
    "#     print(i)"
   ]
  },
  {
   "cell_type": "code",
   "execution_count": 4,
   "id": "verbal-barbados",
   "metadata": {},
   "outputs": [
    {
     "data": {
      "text/plain": [
       "876540321"
      ]
     },
     "execution_count": 4,
     "metadata": {},
     "output_type": "execute_result"
    }
   ],
   "source": [
    "matrix_to_int(M)"
   ]
  },
  {
   "cell_type": "code",
   "execution_count": 5,
   "id": "southeast-chance",
   "metadata": {},
   "outputs": [],
   "source": [
    "import copy\n",
    "def move(loc, dir):\n",
    "    directions = [(0, -1), (1, 0), (0, 1), (-1, 0)]\n",
    "    return loc[0] + directions[dir][0], loc[1] + directions[dir][1]\n",
    "def get_new_state(o_loc, n_loc, og_state):\n",
    "    new_state = copy.deepcopy(og_state)\n",
    "    temp = new_state[o_loc[0]][o_loc[1]]\n",
    "    new_state[o_loc[0]][o_loc[1]] = new_state[n_loc[0]][n_loc[1]]\n",
    "    new_state[n_loc[0]][n_loc[1]] = temp\n",
    "    return new_state"
   ]
  },
  {
   "cell_type": "code",
   "execution_count": 6,
   "id": "sticky-twins",
   "metadata": {},
   "outputs": [],
   "source": [
    "new_loc = move(loc,0)\n",
    "new_loc\n",
    "N = get_new_state(loc,new_loc,M)"
   ]
  },
  {
   "cell_type": "code",
   "execution_count": 7,
   "id": "optional-infrastructure",
   "metadata": {},
   "outputs": [
    {
     "name": "stdout",
     "output_type": "stream",
     "text": [
      "2\n",
      "_______\n",
      "1  2  3  \n",
      "4  5  6  \n",
      "7  8  0  \n",
      "_______\n",
      "_______\n",
      "8  7  6  \n",
      "5  4  0  \n",
      "3  2  1  \n",
      "_______\n"
     ]
    },
    {
     "data": {
      "text/plain": [
       "20"
      ]
     },
     "execution_count": 7,
     "metadata": {},
     "output_type": "execute_result"
    }
   ],
   "source": [
    "\n",
    "goal_state = [x for x in range(1,9)] + [0]\n",
    "goal_state = arr_to_matrix(goal_state,3)\n",
    "A = arr_to_matrix([1,2,3,4,5,6,7,0,8], 3)\n",
    "print(compute_heuristic(A,goal_state))\n",
    "pretty_print(goal_state)\n",
    "pretty_print(M)\n",
    "compute_heuristic_matt(M,goal_state)"
   ]
  },
  {
   "cell_type": "code",
   "execution_count": 8,
   "id": "conservative-contrast",
   "metadata": {},
   "outputs": [],
   "source": [
    "import heapq\n",
    "class Astar(object):\n",
    "    \"\"\"The high-level search of CBS.\"\"\"\n",
    "\n",
    "    def __init__(self, goal):\n",
    "        self.goal = goal\n",
    "\n",
    "        self.num_of_generated = 0\n",
    "        self.num_of_expanded = 0\n",
    "        self.CPU_time = 0\n",
    "\n",
    "        self.open_list = []\n",
    "\n",
    "        # compute heuristics for the low-level search\n",
    "\n",
    "    def push_node(self, node):\n",
    "        heapq.heappush(self.open_list, (node['cost']+node['g_val'], self.num_of_generated, node))\n",
    "        # print(\"Generate node {}\".format(self.num_of_generated))\n",
    "        self.num_of_generated += 1\n",
    "\n",
    "    def pop_node(self):\n",
    "        _, id, node = heapq.heappop(self.open_list)\n",
    "        # print(\"Expand node {}\".format(id))\n",
    "        self.num_of_expanded += 1\n",
    "        return node\n",
    "\n",
    "    def find_solution(self, state, start_loc):\n",
    "        \n",
    "        #self.start_time = timer.time()\n",
    "        closed_list = dict()\n",
    "        root = {'loc': start_loc,'parent': None,'state': state,'g_val': compute_heuristic_matt(state,self.goal),'cost': 0}\n",
    "        self.push_node(root)\n",
    "        closed_list[(root['loc'],matrix_to_int(state))] = root\n",
    "        while len(self.open_list) > 0:\n",
    "            curr = self.pop_node()\n",
    "            # check if goal state\n",
    "            if curr['state'] == self.goal:\n",
    "                return get_path(curr)\n",
    "            for dir in range(4):\n",
    "                child_loc = move(curr['loc'], dir)\n",
    "                try:\n",
    "                    curr['state'][child_loc[0]][child_loc[1]]\n",
    "                except IndexError:\n",
    "                    continue\n",
    "                new_state = get_new_state(curr['loc'], child_loc, curr['state'])\n",
    "                child = {'loc': child_loc,\n",
    "                         'parent': curr,\n",
    "                         'state': new_state,\n",
    "                         'g_val': compute_heuristic_matt(new_state,self.goal),\n",
    "                         'cost': curr['cost'] + 1}\n",
    "                if (child['loc'],matrix_to_int(child['state'])) in closed_list:\n",
    "                    existing_node = closed_list[(child['loc'],matrix_to_int(child['state']))]\n",
    "                    if compare_nodes(child, existing_node):\n",
    "                        closed_list[(child['loc'],matrix_to_int(child['state']))] = child\n",
    "                        self.push_node(child)\n",
    "                else:\n",
    "                    closed_list[(child['loc'],matrix_to_int(child['state']))] = child\n",
    "                    self.push_node(child)\n",
    "        print('END',len(self.open_list))\n",
    "        return None\n",
    "        "
   ]
  },
  {
   "cell_type": "code",
   "execution_count": 9,
   "id": "historical-consultation",
   "metadata": {},
   "outputs": [
    {
     "data": {
      "text/plain": [
       "True"
      ]
     },
     "execution_count": 9,
     "metadata": {},
     "output_type": "execute_result"
    }
   ],
   "source": [
    "m = repr(M)\n",
    "n = repr(M)\n",
    "n == m"
   ]
  },
  {
   "cell_type": "code",
   "execution_count": 10,
   "id": "brutal-bryan",
   "metadata": {},
   "outputs": [
    {
     "name": "stdout",
     "output_type": "stream",
     "text": [
      "_______\n",
      "1  2  3  \n",
      "4  5  6  \n",
      "7  8  0  \n",
      "_______\n",
      "_______\n",
      "8  7  6  \n",
      "5  4  0  \n",
      "3  2  1  \n",
      "_______\n"
     ]
    }
   ],
   "source": [
    "pretty_print(goal_state)\n",
    "pretty_print(M)"
   ]
  },
  {
   "cell_type": "code",
   "execution_count": 11,
   "id": "geographic-henry",
   "metadata": {},
   "outputs": [
    {
     "name": "stdout",
     "output_type": "stream",
     "text": [
      "Generated 443\n",
      "Generated 181\n"
     ]
    }
   ],
   "source": [
    "solver = Astar(goal_state)\n",
    "sol = solver.find_solution(M,get_location(M))\n",
    "print(\"Generated\",solver.num_of_generated)\n",
    "print(\"Generated\",solver.num_of_expanded)"
   ]
  },
  {
   "cell_type": "code",
   "execution_count": 12,
   "id": "published-gazette",
   "metadata": {},
   "outputs": [
    {
     "name": "stdout",
     "output_type": "stream",
     "text": [
      "Generated 443\n",
      "Generated 181\n"
     ]
    }
   ],
   "source": [
    "print(\"Generated\",solver.num_of_generated)\n",
    "print(\"Generated\",solver.num_of_expanded)"
   ]
  },
  {
   "cell_type": "code",
   "execution_count": null,
   "id": "peaceful-timing",
   "metadata": {},
   "outputs": [],
   "source": []
  }
 ],
 "metadata": {
  "kernelspec": {
   "display_name": "Python 3",
   "language": "python",
   "name": "python3"
  },
  "language_info": {
   "codemirror_mode": {
    "name": "ipython",
    "version": 3
   },
   "file_extension": ".py",
   "mimetype": "text/x-python",
   "name": "python",
   "nbconvert_exporter": "python",
   "pygments_lexer": "ipython3",
   "version": "3.8.10"
  }
 },
 "nbformat": 4,
 "nbformat_minor": 5
}

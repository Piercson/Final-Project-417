{
 "cells": [
  {
   "cell_type": "markdown",
   "id": "accurate-billion",
   "metadata": {},
   "source": [
    "# Project Presentation\n",
    "\n",
    "My project will be looking at four search algorithms to find the solution to the 8-Puzzle *[eyt-puhz-uhl]*\n",
    "\n",
    "### The Algorithms that will be looked at are:\n",
    "* Breadth-First-Search (**BFS**)\n",
    "* Depth-First-Iterative- Deepening Search (**DFID**)\n",
    "* A-Star (**A***)\n",
    "* Iterative-Deepening A Star (**IDA***)\n",
    "\n",
    "### The topic I plan on exploring are:\n",
    "* Comparing the nodes that are expanded/generated of all Algorithms\n",
    "* Is there a difference in expanded/generated nodes produced by **BFS** and **DFID** ?\n",
    "* Does **A*** ever outperform **IDA*** ?\n",
    "* Is there a difference in expanded/generated nodes produced by **A*** and **IDA*** ?"
   ]
  },
  {
   "cell_type": "markdown",
   "id": "ambient-asian",
   "metadata": {},
   "source": [
    "## General Problem\n",
    "The solver must be able to find a solution in the least amount of moves\n",
    "\n",
    "       Start State                 Goal State\n",
    "<img src=\"example.png\" alt=\"drawing\" width=\"400\"/>"
   ]
  },
  {
   "cell_type": "code",
   "execution_count": 1,
   "id": "joint-beast",
   "metadata": {},
   "outputs": [],
   "source": [
    "from helpers import *\n",
    "from solvers import *\n",
    "from generate_data import *\n",
    "import figures"
   ]
  },
  {
   "cell_type": "markdown",
   "id": "patent-family",
   "metadata": {},
   "source": [
    "## What I have Completed\n",
    "I have finished:\n",
    "* Implementation of A*\n",
    "* Have a Implementation IDA* ( *There Is a Issue* )\n",
    "\n",
    "The Issue I have having with **IDA***is that there are some states that produce unoptimal solutions \n",
    "\n",
    "---\n",
    "\n",
    "### The Issue of with My Implementation IDA*"
   ]
  },
  {
   "cell_type": "code",
   "execution_count": 2,
   "id": "downtown-lawyer",
   "metadata": {},
   "outputs": [],
   "source": [
    "# Get the Data\n",
    "data = get_data([Astar,idastar],50,50,123456780).astype({'expanded':'int64','generated':'int64','sol_length':'int64','state':'int64'})\n",
    "# Clean the Data\n",
    "data['optimal'] = data['state'].apply(lambda x: len(data[data['state'] == x]['sol_length'].unique()) == 1)\n",
    "data['ratio'] = data['generated'] / data['expanded']\n",
    "data['time_ms'] = data.time * 1000"
   ]
  },
  {
   "cell_type": "code",
   "execution_count": 3,
   "id": "thrown-cartridge",
   "metadata": {},
   "outputs": [
    {
     "data": {
      "text/html": [
       "<div>\n",
       "<style scoped>\n",
       "    .dataframe tbody tr th:only-of-type {\n",
       "        vertical-align: middle;\n",
       "    }\n",
       "\n",
       "    .dataframe tbody tr th {\n",
       "        vertical-align: top;\n",
       "    }\n",
       "\n",
       "    .dataframe thead th {\n",
       "        text-align: right;\n",
       "    }\n",
       "</style>\n",
       "<table border=\"1\" class=\"dataframe\">\n",
       "  <thead>\n",
       "    <tr style=\"text-align: right;\">\n",
       "      <th></th>\n",
       "      <th>index</th>\n",
       "      <th>name</th>\n",
       "      <th>expanded</th>\n",
       "      <th>generated</th>\n",
       "      <th>sol_length</th>\n",
       "      <th>time</th>\n",
       "      <th>state</th>\n",
       "      <th>optimal</th>\n",
       "      <th>ratio</th>\n",
       "      <th>time_ms</th>\n",
       "    </tr>\n",
       "  </thead>\n",
       "  <tbody>\n",
       "    <tr>\n",
       "      <th>6</th>\n",
       "      <td>0</td>\n",
       "      <td>A Star</td>\n",
       "      <td>699</td>\n",
       "      <td>1121</td>\n",
       "      <td>20</td>\n",
       "      <td>0.053417</td>\n",
       "      <td>236504817</td>\n",
       "      <td>False</td>\n",
       "      <td>1.603720</td>\n",
       "      <td>53.416729</td>\n",
       "    </tr>\n",
       "    <tr>\n",
       "      <th>7</th>\n",
       "      <td>0</td>\n",
       "      <td>IDAStar</td>\n",
       "      <td>929</td>\n",
       "      <td>1512</td>\n",
       "      <td>22</td>\n",
       "      <td>0.049821</td>\n",
       "      <td>236504817</td>\n",
       "      <td>False</td>\n",
       "      <td>1.627557</td>\n",
       "      <td>49.820900</td>\n",
       "    </tr>\n",
       "    <tr>\n",
       "      <th>80</th>\n",
       "      <td>0</td>\n",
       "      <td>A Star</td>\n",
       "      <td>388</td>\n",
       "      <td>627</td>\n",
       "      <td>18</td>\n",
       "      <td>0.029339</td>\n",
       "      <td>823416075</td>\n",
       "      <td>False</td>\n",
       "      <td>1.615979</td>\n",
       "      <td>29.339075</td>\n",
       "    </tr>\n",
       "    <tr>\n",
       "      <th>81</th>\n",
       "      <td>0</td>\n",
       "      <td>IDAStar</td>\n",
       "      <td>907</td>\n",
       "      <td>1573</td>\n",
       "      <td>20</td>\n",
       "      <td>0.050545</td>\n",
       "      <td>823416075</td>\n",
       "      <td>False</td>\n",
       "      <td>1.734289</td>\n",
       "      <td>50.544739</td>\n",
       "    </tr>\n",
       "  </tbody>\n",
       "</table>\n",
       "</div>"
      ],
      "text/plain": [
       "    index     name  expanded  generated  sol_length      time      state  \\\n",
       "6       0   A Star       699       1121          20  0.053417  236504817   \n",
       "7       0  IDAStar       929       1512          22  0.049821  236504817   \n",
       "80      0   A Star       388        627          18  0.029339  823416075   \n",
       "81      0  IDAStar       907       1573          20  0.050545  823416075   \n",
       "\n",
       "    optimal     ratio    time_ms  \n",
       "6     False  1.603720  53.416729  \n",
       "7     False  1.627557  49.820900  \n",
       "80    False  1.615979  29.339075  \n",
       "81    False  1.734289  50.544739  "
      ]
     },
     "execution_count": 3,
     "metadata": {},
     "output_type": "execute_result"
    }
   ],
   "source": [
    "data[~data['optimal']]"
   ]
  },
  {
   "cell_type": "code",
   "execution_count": 4,
   "id": "monthly-rating",
   "metadata": {},
   "outputs": [],
   "source": [
    "goal_state = int_to_matrix(123456780)\n",
    "test_state = int_to_matrix(236504817)"
   ]
  },
  {
   "cell_type": "markdown",
   "id": "suspended-charm",
   "metadata": {},
   "source": [
    "        Test State\n",
    "<img src=\"problem.png\" alt=\"drawing\" width=\"200\"/>"
   ]
  },
  {
   "cell_type": "code",
   "execution_count": 5,
   "id": "particular-fusion",
   "metadata": {},
   "outputs": [
    {
     "name": "stdout",
     "output_type": "stream",
     "text": [
      "Generated ASTAR 1121\n",
      "Expanded ASTAR 699\n",
      "len of sol ASTAR 20\n",
      "Generated IDA 1512\n",
      "Expanded IDA 929\n",
      "len of sol ida 22\n",
      "{12: [9, 9], 14: [66, 50], 16: [244, 155], 18: [635, 401], 20: [1466, 906], 22: [1512, 929]}\n"
     ]
    }
   ],
   "source": [
    "solver1 = Astar(goal_state)\n",
    "solver2 = idastar(goal_state)\n",
    "sol1 = solver1.find_solution(test_state,get_location(test_state,0))\n",
    "print(\"Generated ASTAR\",solver1.num_of_generated)\n",
    "print(\"Expanded ASTAR\",solver1.num_of_expanded)\n",
    "print(\"len of sol ASTAR\", len(sol1) - 1)\n",
    "sol2 = solver2.find_solution(test_state,get_location(test_state,0))\n",
    "print(\"Generated IDA\",solver2.num_of_generated)\n",
    "print(\"Expanded IDA\",solver2.num_of_expanded)\n",
    "print(\"len of sol ida\", len(sol2) - 1)\n",
    "print(solver2.thresholds)"
   ]
  },
  {
   "cell_type": "markdown",
   "id": "dimensional-housing",
   "metadata": {},
   "source": [
    "\n",
    "---\n",
    "For the Test State, **A*** *generates 1121* nodes and *expands 699* of them while **IDA*** *generates 1512* nodes and *expands 929*\n",
    "\n",
    "**IDA*** should have found the solution at ***threshold = 20*** but my implementation does an additional iteration at ***threshold = 22***\n",
    "\n"
   ]
  },
  {
   "cell_type": "markdown",
   "id": "southern-reasoning",
   "metadata": {},
   "source": [
    "### Some Figures comparing A* and IDA* (Botched version)\n",
    "\n",
    "I will only look at solutions that are optimal"
   ]
  },
  {
   "cell_type": "code",
   "execution_count": 6,
   "id": "caring-warner",
   "metadata": {},
   "outputs": [],
   "source": [
    "opt_data = data[data['optimal']]"
   ]
  },
  {
   "cell_type": "code",
   "execution_count": 9,
   "id": "impossible-thumb",
   "metadata": {},
   "outputs": [],
   "source": [
    "# figures.ratio_plot(opt_data)\n",
    "# figures.node_plot(opt_data)"
   ]
  },
  {
   "cell_type": "markdown",
   "id": "disabled-summit",
   "metadata": {},
   "source": [
    "<img src=\"ratio.jpg\" alt=\"drawing\" width=\"400\"/>\n",
    "\n",
    "*Note* I'm comparing the ratios of the 2 search algorithms\n",
    "\n",
    "<img src=\"node_plot.png\" alt=\"drawing\"/>"
   ]
  },
  {
   "cell_type": "markdown",
   "id": "relevant-chancellor",
   "metadata": {},
   "source": [
    "## Finished"
   ]
  }
 ],
 "metadata": {
  "kernelspec": {
   "display_name": "Python 3",
   "language": "python",
   "name": "python3"
  },
  "language_info": {
   "codemirror_mode": {
    "name": "ipython",
    "version": 3
   },
   "file_extension": ".py",
   "mimetype": "text/x-python",
   "name": "python",
   "nbconvert_exporter": "python",
   "pygments_lexer": "ipython3",
   "version": "3.8.10"
  }
 },
 "nbformat": 4,
 "nbformat_minor": 5
}
